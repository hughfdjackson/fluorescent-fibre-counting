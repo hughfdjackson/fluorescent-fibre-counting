{
 "cells": [
  {
   "cell_type": "markdown",
   "metadata": {},
   "source": [
    "# Taking photos of slides for automatic fluorescent fibre counting\n",
    "\n",
    "To take photos of fluorescent fibre slides for automatic fibre counting, the following steps should help. I'm no photographer, so the below might well be suboptimal, but they seem to work well enough. \n",
    "\n",
    "First, an example of what we're after: \n",
    "\n",
    "![example photo](lifts/raw.v4/IMG_0685.JPG)\n",
    "**Figure 1:** *Example fibre photograph*"
   ]
  },
  {
   "cell_type": "markdown",
   "metadata": {},
   "source": [
    "## 1. Choosing the right camera equipment\n",
    "\n",
    "A mid-range Digital SLR camera with 18.0+ megapixels should be sufficient.  In my tests, I used a Canon 550D DSLR camera with the Canon EF 50mm lens.  A tripod is also necessary. \n",
    "\n",
    "It's important that the lens chosen doesn't introduce significant distortion. A wide-angle or fish-eye lens wouldn't be good for this application. "
   ]
  },
  {
   "cell_type": "markdown",
   "metadata": {},
   "source": [
    "## 2. Background for the fibres\n",
    "\n",
    "Print off `fibre-background-v3.pdf`, and selotape it to a flat surface.  This will be the background for your fibre images.  "
   ]
  },
  {
   "cell_type": "markdown",
   "metadata": {},
   "source": [
    "## 3. Set-up\n",
    "\n",
    "Place your slide such that the tape is completely contained in the large black area of your `fibre-background-v3.pdf` printout (as shown in **Figure 1**).  Make sure the slide does not overlap any of the 4 markers in the corners.\n",
    "\n",
    "Try to position the camera as close to perpendicular to your slide as possible, using the tripod.  The black area and the four markers must all be completely in frame.  Try to take up as much of the frame with these elements as possible.\n",
    "\n",
    "Focus your camera before starting to take photos - and choose appropriate ISO, Shutter Speed and Apeture settings.  I suggest ISO 200, Shutter Speed of 1.6 seconds and Apeture of F8 - but it may vary from camera to camera.\n",
    "\n",
    "The aim here is to get an in-focus image that will yield fairly bright fibres when illuminated, but limit the amount of noise.  To the best of my understanding, the rule of thumb for this is: low ISO, slow shutter speed, and wide apature.\n",
    "\n",
    "### Tips \n",
    "\n",
    "I've found it easiest to put the camera into manual focussing mode, and use the screen on the back to view through rather than the viewfinder.  The Canon 550D allows the user to zoom into the 'live image' using the zoom controls - so I zoomed into a fibre as close as possible, illuminated it with the UV torch, and manually focussed.\n",
    "\n",
    "Keeping the camera in manual focussing mode means you can take photos of a series of slides without having to wait for the camera to (attempt to) refocus.  In low-light conditions, automatic focussing each time will probably yield inconsistent results anyway."
   ]
  },
  {
   "cell_type": "markdown",
   "metadata": {},
   "source": [
    "## 4. Taking the photos\n",
    "\n",
    "For each slide: \n",
    "\n",
    "* Place the slide on the background, as described above\n",
    "* Use the UV torch to illuminate the slide in a dark room - aiming for 'bright' and 'even'\n",
    "* Take the photo\n",
    "\n",
    "### Tips\n",
    "\n",
    "Because different patterns of air bubbles and ridges in the slides, different angles of illumination may be needed for some slides. \n",
    "\n",
    "Putting the camera on a short timer (I used 2 seconds) or using an infrared remote trigger will stop you from jogging the camera while taking the photo. \n",
    "\n",
    "### Potential Gotchas\n",
    "\n",
    "I found the most likely things to yield unusable photos were: \n",
    "\n",
    "* \"Jogging\" the camera while pressing the shutter, causing a blur (see **Figure 2**)\n",
    "* Illuminating the slide from the wrong angle with the UV torch, which caused purple 'glare' from the tape or acetate to be captured in the image\n",
    "* Not quite illuminating the whole slide\n",
    "\n",
    "![ghosting/blur](taking-photos-of-slides-fig-2.png)\n",
    "**Figure 2**: Blurring caused by jogging the camera."
   ]
  },
  {
   "cell_type": "markdown",
   "metadata": {},
   "source": [
    "## 5. Quality assurance\n",
    "\n",
    "After each set of photos run, I found it necessary to double check on a computer that they all came out clearly - zooming into each image and looking at fibres from various parts to make sure they're in focus and well captured.  An example of acceptable quailty when zoomed in is seen in **Figure 3**.\n",
    "\n",
    "It also helped to spot-check every several slides using the camera's screen, just to make sure that the camera wasn't falling out of focus. \n",
    "\n",
    "![Untitled.png](taking-photos-of-slides-fig-3.png)\n",
    "**Figure 3**: Fibres captured well enough for the model to work with"
   ]
  },
  {
   "cell_type": "markdown",
   "metadata": {},
   "source": [
    "Note that because of the pixel density limitations of the camera, the fibres in the captured images will always look a little blurred.  Using this quality of camera, I believe that's unavoidable. "
   ]
  }
 ],
 "metadata": {
  "kernelspec": {
   "display_name": "Python 3",
   "language": "python",
   "name": "python3"
  },
  "language_info": {
   "codemirror_mode": {
    "name": "ipython",
    "version": 3
   },
   "file_extension": ".py",
   "mimetype": "text/x-python",
   "name": "python",
   "nbconvert_exporter": "python",
   "pygments_lexer": "ipython3",
   "version": "3.6.2"
  }
 },
 "nbformat": 4,
 "nbformat_minor": 2
}
